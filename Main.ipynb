{
 "cells": [
  {
   "cell_type": "code",
   "execution_count": 2,
   "id": "b03bb281-0438-4cd0-b616-83d44951e03b",
   "metadata": {},
   "outputs": [],
   "source": [
    "import numpy as np\n",
    "import pandas as pd\n",
    "import pathlib as path\n",
    "import os\n",
    "import csv"
   ]
  },
  {
   "cell_type": "code",
   "execution_count": 3,
   "id": "5b3272c0-88f0-490b-9667-966381560943",
   "metadata": {},
   "outputs": [
    {
     "data": {
      "text/plain": [
       "'C:\\\\Users\\\\UxmaS\\\\Downloads\\\\Fintech\\\\HW2-Python\\\\python-homework\\\\Pybank'"
      ]
     },
     "execution_count": 3,
     "metadata": {},
     "output_type": "execute_result"
    }
   ],
   "source": [
    "os.chdir('C:\\\\Users\\\\UxmaS\\\\Downloads\\\\Fintech\\\\HW2-Python\\\\python-homework\\\\Pybank')\n",
    "os.getcwd()"
   ]
  },
  {
   "cell_type": "code",
   "execution_count": 4,
   "id": "d1300b74-61d8-4a59-99d2-eb64ec981402",
   "metadata": {},
   "outputs": [
    {
     "name": "stdout",
     "output_type": "stream",
     "text": [
      "86\n"
     ]
    }
   ],
   "source": [
    "path = os.path.join(os.getcwd(),\"budget_data.csv\")\n",
    "\n",
    "#file = object.path\n",
    "#fileObject = csv.reader(file)\n",
    "\n",
    "budget_file = pd.read_csv(path)\n",
    "\n",
    "# total months\n",
    "\n",
    "months = len(budget_file)\n",
    "print (months)"
   ]
  },
  {
   "cell_type": "code",
   "execution_count": 5,
   "id": "8a8f1f8c-70c6-4eca-88a9-231eb03e97f7",
   "metadata": {},
   "outputs": [
    {
     "name": "stdout",
     "output_type": "stream",
     "text": [
      "38382578\n"
     ]
    }
   ],
   "source": [
    "# Initialize a list for net profits \n",
    "# net_profit = []\n",
    "\n",
    "net_profit = budget_file[\"Profit/Losses\"].values.tolist()\n",
    "\n",
    "# print (net_profit)\n",
    "\n",
    "# sum up the list values\n",
    "\n",
    "Sum = sum(net_profit)\n",
    "\n",
    "print (Sum)\n",
    "\n",
    "\n",
    "    \n",
    "\n",
    "\n",
    "    \n",
    "\n",
    "\n",
    "\n",
    "    "
   ]
  },
  {
   "cell_type": "code",
   "execution_count": 11,
   "id": "f6ff59e1-e420-44a4-a8d4-c3126474819e",
   "metadata": {},
   "outputs": [
    {
     "name": "stdout",
     "output_type": "stream",
     "text": [
      "[116771.0, -662642.0, -391430.0, 379920.0, 212354.0, 510239.0, -428211.0, -821271.0, 693918.0, 416278.0, -974163.0, 860159.0, -1115009.0, 1033048.0, 95318.0, -308093.0, 99052.0, -521393.0, 605450.0, 231727.0, -65187.0, -702716.0, 177975.0, -1065544.0, 1926159.0, -917805.0, 898730.0, -334262.0, -246499.0, -64055.0, -1529236.0, 1497596.0, 304914.0, -635801.0, 398319.0, -183161.0, -37864.0, -253689.0, 403655.0, 94168.0, 306877.0, -83000.0, 210462.0, -2196167.0, 1465222.0, -956983.0, 1838447.0, -468003.0, -64602.0, 206242.0, -242155.0, -449079.0, 315198.0, 241099.0, 111540.0, 365942.0, -219310.0, -368665.0, 409837.0, 151210.0, -110244.0, -341938.0, -1212159.0, 683246.0, -70825.0, 335594.0, 417334.0, -272194.0, -236462.0, 657432.0, -211262.0, -128237.0, -1750387.0, 925441.0, 932089.0, -311434.0, 267252.0, -1876758.0, 1733696.0, 198551.0, -665765.0, 693229.0, -734926.0, 77242.0, 532869.0]\n"
     ]
    }
   ],
   "source": [
    "changes = []\n",
    "previous_num = 0\n",
    "biggest_month = 0\n",
    "smallest_month = 0\n",
    "\n",
    "for i, row in budget_file.iterrows():\n",
    "    if i == 0:\n",
    "        previous_num = float(row[\"Profit/Losses\"])\n",
    "        biggest_profit = 0\n",
    "        biggest_loss = 0\n",
    "        continue\n",
    "    else:\n",
    "        diff = row[\"Profit/Losses\"] - previous_num\n",
    "        previous_num = float(row[\"Profit/Losses\"])\n",
    "        \n",
    "        if row[\"Profit/Losses\"] > biggest_profit:\n",
    "            biggest_month = str(row[\"Date\"])\n",
    "        elif row[\"Profit/Losses\"] < biggest_loss:\n",
    "            smallest_month = str(row[\"Date\"])\n",
    "        else:\n",
    "            continue\n",
    "        \n",
    "        changes.append(diff)\n",
    "        \n",
    "    \n",
    "\n",
    "print(changes)\n"
   ]
  },
  {
   "cell_type": "code",
   "execution_count": 7,
   "id": "b90cea88-4f03-42af-a2cf-e1e4eaa5712d",
   "metadata": {},
   "outputs": [
    {
     "name": "stdout",
     "output_type": "stream",
     "text": [
      "Average of the list = -2315.12\n"
     ]
    }
   ],
   "source": [
    "def Average(changes):\n",
    "    return sum(changes)/len(changes)\n",
    "\n",
    "average = Average(changes)\n",
    "\n",
    "\n",
    "print(\"Average of the list =\", round(average, 2))\n"
   ]
  },
  {
   "cell_type": "code",
   "execution_count": 12,
   "id": "5d570bc9-11b7-4c54-b16a-06a9e47ffe4c",
   "metadata": {},
   "outputs": [
    {
     "name": "stdout",
     "output_type": "stream",
     "text": [
      "The greatest increase in revenue:  Feb-2017 1926159.0\n",
      "The greatest_decrease in revenue: Jul-2016 -2196167.0\n"
     ]
    }
   ],
   "source": [
    "#The greatest increase and decrease in revenue (date and amount) over the entire period\n",
    "maximum = max(changes)\n",
    "minimum = min(changes)\n",
    " \n",
    "print(\"The greatest increase in revenue: \", biggest_month, maximum) \n",
    "print(\"The greatest_decrease in revenue:\", smallest_month, minimum)"
   ]
  },
  {
   "cell_type": "code",
   "execution_count": 9,
   "id": "48591b39-11a7-4838-9688-0aa3be42628f",
   "metadata": {},
   "outputs": [
    {
     "name": "stdout",
     "output_type": "stream",
     "text": [
      "Financial Analysis\n",
      "----------------------------\n",
      "Total Months: 86\n",
      "Total: 38382578\n",
      "Average  Change: -2315.1176470588234\n",
      "Greatest Increase in Profits: Feb-2017 $1926159.0\n",
      "Greatest Decrease in Profits: Jul-2016 $-2196167.0\n"
     ]
    }
   ],
   "source": [
    "print(\"Financial Analysis\")\n",
    "print(\"----------------------------\")\n",
    "print(f\"Total Months: {months}\")\n",
    "print(f\"Total: {Sum}\")\n",
    "print(f\"Average  Change: {average}\")\n",
    "print(f\"Greatest Increase in Profits: {biggest_month} ${maximum}\")\n",
    "print(f\"Greatest Decrease in Profits: {smallest_month} ${minimum}\")\n"
   ]
  },
  {
   "cell_type": "code",
   "execution_count": 14,
   "id": "fb167dc7-ca1b-4f8d-9db4-c31156732900",
   "metadata": {},
   "outputs": [],
   "source": [
    "#create file and write to the directory\n",
    "with open(\"pybank_asmt.txt\", \"w\") as pybank:\n",
    "    pybank.write(\"Financial Analysis\\n\")\n",
    "    pybank.write(\"----------------------------\\n\")\n",
    "    pybank.write(f\"Total Months: {months}\\n\")\n",
    "    pybank.write(f\"Total: {Sum}\\n\")\n",
    "    pybank.write(f\"Average  Change: {average}\\n\")\n",
    "    pybank.write(f\"Greatest Increase in Profits: {biggest_month} ${maximum}\\n\")\n",
    "    pybank.write(f\"Greatest Decrease in Profits: {smallest_month} ${minimum}\\n\")\n"
   ]
  },
  {
   "cell_type": "code",
   "execution_count": null,
   "id": "419ecd56-1336-48ad-b92c-9623202c2533",
   "metadata": {},
   "outputs": [],
   "source": []
  },
  {
   "cell_type": "code",
   "execution_count": null,
   "id": "7a077b77-e59c-43c2-91c5-3bb2e26350c7",
   "metadata": {},
   "outputs": [],
   "source": []
  }
 ],
 "metadata": {
  "kernelspec": {
   "display_name": "Python 3 (ipykernel)",
   "language": "python",
   "name": "python3"
  },
  "language_info": {
   "codemirror_mode": {
    "name": "ipython",
    "version": 3
   },
   "file_extension": ".py",
   "mimetype": "text/x-python",
   "name": "python",
   "nbconvert_exporter": "python",
   "pygments_lexer": "ipython3",
   "version": "3.9.7"
  }
 },
 "nbformat": 4,
 "nbformat_minor": 5
}
